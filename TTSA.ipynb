{
 "cells": [
  {
   "cell_type": "code",
   "execution_count": 1,
   "metadata": {
    "collapsed": true
   },
   "outputs": [],
   "source": [
    "from util import Schedule\n",
    "import hardcode\n",
    "import config"
   ]
  },
  {
   "cell_type": "markdown",
   "metadata": {},
   "source": [
    "## Testing the working of the inner functions"
   ]
  },
  {
   "cell_type": "code",
   "execution_count": 2,
   "metadata": {},
   "outputs": [
    {
     "name": "stdout",
     "output_type": "stream",
     "text": [
      "Generated Schedule and Distance Map\n",
      "Rounds - >\n",
      "         1     2     3     4     5     6     7     8     9     10  \n",
      "Teams\n",
      "   1     4    -3    6    5    -6    -4    -5    2    3    -2  \n",
      "   2     -6    -5    4    -3    5    3    6    -1    -4    1  \n",
      "   3     5    1    -5    2    -4    -2    4    6    -1    -6  \n",
      "   4     -1    6    -2    -6    3    1    -3    -5    2    5  \n",
      "   5     -3    2    3    -1    -2    6    1    4    -6    -4  \n",
      "   6     2    -4    -1    4    1    -5    -2    -3    5    3  \n",
      " Violations = 0 \n"
     ]
    }
   ],
   "source": [
    "# Prints a randomly generated schedule\n",
    "TTSA = Schedule(n=6,hardcoded=False)\n",
    "TTSA.printSchedule(TTSA.scheduleMap)\n",
    "print(''' Violations = {} '''.format(TTSA.getViolations(S=TTSA.scheduleMap)))"
   ]
  },
  {
   "cell_type": "code",
   "execution_count": 3,
   "metadata": {},
   "outputs": [
    {
     "name": "stdout",
     "output_type": "stream",
     "text": [
      "Generated Schedule and Distance Map\n",
      "Rounds - >\n",
      "         1     2     3     4     5     6     7     8     9     10  \n",
      "Teams\n",
      "   1     6    -2    4    3    -5    -4    -3    5    2    -6  \n",
      "   2     5    1    -3    -6    4    3    6    -4    -1    -5  \n",
      "   3     -4    5    2    -1    6    -2    1    -6    -5    4  \n",
      "   4     3    6    -1    -5    -2    1    5    2    -6    -3  \n",
      "   5     -2    -3    6    4    1    -6    -4    -1    3    2  \n",
      "   6     -1    -4    -5    2    -3    5    -2    3    4    1  \n",
      " Violations = 0 \n"
     ]
    }
   ],
   "source": [
    "# Generates the schdeule listed in the paper.\n",
    "TTSA = Schedule(n=6,hardcoded=True)\n",
    "TTSA.printSchedule(TTSA.scheduleMap)\n",
    "print(''' Violations = {} '''.format(TTSA.getViolations(S=TTSA.scheduleMap)))"
   ]
  },
  {
   "cell_type": "code",
   "execution_count": 4,
   "metadata": {},
   "outputs": [
    {
     "name": "stdout",
     "output_type": "stream",
     "text": [
      "Rounds - >\n",
      "         1     2     3     4     5     6     7     8     9     10  \n",
      "Teams\n",
      "   1     6    -2    4    3    -5    -4    -3    5    2    -6  \n",
      "   2     5    1    -3    -6    -4    3    6    4    -1    -5  \n",
      "   3     -4    5    2    -1    6    -2    1    -6    -5    4  \n",
      "   4     3    6    -1    -5    2    1    5    -2    -6    -3  \n",
      "   5     -2    -3    6    4    1    -6    -4    -1    3    2  \n",
      "   6     -1    -4    -5    2    -3    5    -2    3    4    1  \n",
      " Violations = 0 \n"
     ]
    }
   ],
   "source": [
    "# Swap the Home and Away games of two teams\n",
    "TTSA.swapHomes(teamA=2,teamB=4)\n",
    "TTSA.printSchedule(TTSA.scheduleMap)\n",
    "print(''' Violations = {} '''.format(TTSA.getViolations(S=TTSA.scheduleMap)))"
   ]
  },
  {
   "cell_type": "code",
   "execution_count": 5,
   "metadata": {},
   "outputs": [
    {
     "name": "stdout",
     "output_type": "stream",
     "text": [
      "Rounds - >\n",
      "         1     2     3     4     5     6     7     8     9     10  \n",
      "Teams\n",
      "   1     6    3    4    -2    -5    -4    -3    5    2    -6  \n",
      "   2     5    -6    -3    1    -4    3    6    4    -1    -5  \n",
      "   3     -4    -1    2    5    6    -2    1    -6    -5    4  \n",
      "   4     3    -5    -1    6    2    1    5    -2    -6    -3  \n",
      "   5     -2    4    6    -3    1    -6    -4    -1    3    2  \n",
      "   6     -1    2    -5    -4    -3    5    -2    3    4    1  \n",
      " Violations = 2 \n"
     ]
    }
   ],
   "source": [
    "# Swap two rounds completely\n",
    "TTSA.swapRounds(roundA=2,roundB=4)\n",
    "TTSA.printSchedule(TTSA.scheduleMap)\n",
    "print(''' Violations = {} '''.format(TTSA.getViolations(S=TTSA.scheduleMap)))"
   ]
  },
  {
   "cell_type": "code",
   "execution_count": 6,
   "metadata": {},
   "outputs": [
    {
     "name": "stdout",
     "output_type": "stream",
     "text": [
      "Rounds - >\n",
      "         1     2     3     4     5     6     7     8     9     10  \n",
      "Teams\n",
      "   1     6    3    2    -4    -5    -2    -3    5    4    -6  \n",
      "   2     3    -5    -1    6    -4    1    5    4    -6    -3  \n",
      "   3     -2    -1    4    5    6    -4    1    -6    -5    2  \n",
      "   4     5    -6    -3    1    2    3    6    -2    -1    -5  \n",
      "   5     -4    2    6    -3    1    -6    -2    -1    3    4  \n",
      "   6     -1    4    -5    -2    -3    5    -4    3    2    1  \n",
      " Violations = 2 \n"
     ]
    }
   ],
   "source": [
    "# Swap the schedules of two teams\n",
    "TTSA.swapTeams(teamA=2,teamB=4)\n",
    "TTSA.printSchedule(TTSA.scheduleMap)\n",
    "print(''' Violations = {} '''.format(TTSA.getViolations(S=TTSA.scheduleMap)))"
   ]
  },
  {
   "cell_type": "code",
   "execution_count": 7,
   "metadata": {},
   "outputs": [
    {
     "name": "stdout",
     "output_type": "stream",
     "text": [
      "Rounds - >\n",
      "         1     2     3     4     5     6     7     8     9     10  \n",
      "Teams\n",
      "   1     6    4    2    -4    -5    -2    -3    5    3    -6  \n",
      "   2     3    -6    -1    6    -4    1    5    4    -5    -3  \n",
      "   3     -2    -5    4    5    6    -4    1    -6    -1    2  \n",
      "   4     5    -1    -3    1    2    3    6    -2    -6    -5  \n",
      "   5     -4    3    6    -3    1    -6    -2    -1    2    4  \n",
      "   6     -1    2    -5    -2    -3    5    -4    3    4    1  \n",
      " Violations = 2 \n"
     ]
    }
   ],
   "source": [
    "# Partial Swap (with hard constraints) on two rounds\n",
    "TTSA.partialSwapRounds(team=2,roundA=2,roundB=9)\n",
    "TTSA.printSchedule(TTSA.scheduleMap)\n",
    "print(''' Violations = {} '''.format(TTSA.getViolations(S=TTSA.scheduleMap)))"
   ]
  },
  {
   "cell_type": "markdown",
   "metadata": {},
   "source": [
    "### Distance Map\n",
    "\n",
    "This is from CMU website containing the standard solution:http://mat.gsia.cmu.edu/TOURN"
   ]
  },
  {
   "cell_type": "code",
   "execution_count": 8,
   "metadata": {},
   "outputs": [
    {
     "name": "stdout",
     "output_type": "stream",
     "text": [
      "[[   0  745  665  929  605  521]\n",
      " [ 745    0   80  337 1090  315]\n",
      " [ 665   80    0  380 1020  257]\n",
      " [ 929  337  380    0 1380  408]\n",
      " [ 605 1090 1020 1380    0 1010]\n",
      " [ 521  315  257  408 1010    0]]\n"
     ]
    }
   ],
   "source": [
    "print(TTSA.distanceMap)"
   ]
  }
 ],
 "metadata": {
  "kernelspec": {
   "display_name": "Python 3",
   "language": "python",
   "name": "python3"
  },
  "language_info": {
   "codemirror_mode": {
    "name": "ipython",
    "version": 3
   },
   "file_extension": ".py",
   "mimetype": "text/x-python",
   "name": "python",
   "nbconvert_exporter": "python",
   "pygments_lexer": "ipython3",
   "version": "3.6.3"
  }
 },
 "nbformat": 4,
 "nbformat_minor": 2
}
